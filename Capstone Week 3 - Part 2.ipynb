{
 "cells": [
  {
   "cell_type": "markdown",
   "metadata": {},
   "source": [
    "# Applied Data Science Capstone: Week 3 \n",
    "## Segmenting and Clustering Neighborhoods in the city of Toronto, Canada, Part 2\n",
    "\n",
    "A Jupyter Notebook that uses pandas and other python libraries to demonstrate \n",
    "*k means clustering*. Builds on work in Part 1, which is a separate notebook.\n",
    "The new work begins under the \"Part 2 code starts here\" heading."
   ]
  },
  {
   "cell_type": "markdown",
   "metadata": {},
   "source": [
    "## Code from Part 1\n",
    "\n",
    "I've condensed all the code from the Part 1 notebook into a smaller group of cells."
   ]
  },
  {
   "cell_type": "code",
   "execution_count": 16,
   "metadata": {},
   "outputs": [
    {
     "name": "stdout",
     "output_type": "stream",
     "text": [
      "Dataframe ready!\n",
      "(103, 3)\n"
     ]
    }
   ],
   "source": [
    "import pandas as pd\n",
    "import lxml\n",
    "\n",
    "df = pd.read_html('https://en.wikipedia.org/wiki/List_of_postal_codes_of_Canada:_M')\n",
    "raw_postal_codes = df[0]\n",
    "raw_postal_codes = raw_postal_codes[(raw_postal_codes.Borough != 'Not assigned')]\n",
    "raw_postal_codes = raw_postal_codes[(raw_postal_codes.Neighbourhood != 'Not assigned')]\n",
    "\n",
    "grouped = raw_postal_codes.groupby('Postal Code')\n",
    "grouped_data = {'PostalCode':[], 'Borough':[], 'Neighborhood':[]}\n",
    "for a, b in grouped:\n",
    "    grouped_data['PostalCode'].append(a)\n",
    "    grouped_data['Borough'].append(', '.join(b['Borough'].tolist()))\n",
    "    grouped_data['Neighborhood'].append(', '.join(b['Neighbourhood'].tolist()))\n",
    "\n",
    "postal_codes = pd.DataFrame(grouped_data)\n",
    "print(\"Dataframe ready!\")\n",
    "print(postal_codes.shape)"
   ]
  },
  {
   "cell_type": "markdown",
   "metadata": {},
   "source": [
    "## Part 2 code starts here\n",
    "\n",
    "Start with the geocoder code from Coursera. "
   ]
  },
  {
   "cell_type": "code",
   "execution_count": 20,
   "metadata": {},
   "outputs": [
    {
     "name": "stdout",
     "output_type": "stream",
     "text": [
      "Requirement already satisfied: geocoder in /usr/local/Cellar/jupyterlab/2.2.7/libexec/lib/python3.8/site-packages (1.38.1)\n",
      "Requirement already satisfied: future in /usr/local/Cellar/jupyterlab/2.2.7/libexec/lib/python3.8/site-packages (from geocoder) (0.18.2)\n",
      "Requirement already satisfied: six in /usr/local/Cellar/jupyterlab/2.2.7/libexec/lib/python3.8/site-packages (from geocoder) (1.15.0)\n",
      "Requirement already satisfied: requests in /usr/local/Cellar/jupyterlab/2.2.7/libexec/lib/python3.8/site-packages (from geocoder) (2.24.0)\n",
      "Requirement already satisfied: click in /usr/local/Cellar/jupyterlab/2.2.7/libexec/lib/python3.8/site-packages (from geocoder) (7.1.2)\n",
      "Requirement already satisfied: ratelim in /usr/local/Cellar/jupyterlab/2.2.7/libexec/lib/python3.8/site-packages (from geocoder) (0.1.6)\n",
      "Requirement already satisfied: chardet<4,>=3.0.2 in /usr/local/Cellar/jupyterlab/2.2.7/libexec/lib/python3.8/site-packages (from requests->geocoder) (3.0.4)\n",
      "Requirement already satisfied: idna<3,>=2.5 in /usr/local/Cellar/jupyterlab/2.2.7/libexec/lib/python3.8/site-packages (from requests->geocoder) (2.10)\n",
      "Requirement already satisfied: urllib3!=1.25.0,!=1.25.1,<1.26,>=1.21.1 in /usr/local/Cellar/jupyterlab/2.2.7/libexec/lib/python3.8/site-packages (from requests->geocoder) (1.25.10)\n",
      "Requirement already satisfied: certifi>=2017.4.17 in /usr/local/Cellar/jupyterlab/2.2.7/libexec/lib/python3.8/site-packages (from requests->geocoder) (2020.6.20)\n",
      "Requirement already satisfied: decorator in /usr/local/Cellar/jupyterlab/2.2.7/libexec/lib/python3.8/site-packages (from ratelim->geocoder) (4.4.2)\n",
      "\u001b[33mWARNING: You are using pip version 20.2.3; however, version 20.3.3 is available.\n",
      "You should consider upgrading via the '/usr/local/Cellar/jupyterlab/2.2.7/libexec/bin/python3.8 -m pip install --upgrade pip' command.\u001b[0m\n",
      "Note: you may need to restart the kernel to use updated packages.\n"
     ]
    }
   ],
   "source": [
    "pip install geocoder"
   ]
  },
  {
   "cell_type": "code",
   "execution_count": 22,
   "metadata": {},
   "outputs": [
    {
     "name": "stdout",
     "output_type": "stream",
     "text": [
      ".......................................................................................................\n",
      "found: 0\n",
      "not found: 103\n"
     ]
    }
   ],
   "source": [
    "import geocoder\n",
    "\n",
    "# initialize your variable to None\n",
    "\n",
    "# Small change from Coursera - as a matter of\n",
    "# style, I don't like to let a loop run forever\n",
    "# until is succeeds, so I added a counter. Good\n",
    "# thing I did: the geocode code never returned \n",
    "# a value for me, no matter how many times I\n",
    "# let the loop run\n",
    "\n",
    "lat_lng_coords = None\n",
    "found = 0\n",
    "not_found = 0\n",
    "\n",
    "for p in postal_codes['PostalCode']:\n",
    "    print(\".\", end='')\n",
    "    i = 0\n",
    "    while(lat_lng_coords is None and i <= 10):\n",
    "        i += 1\n",
    "        g = geocoder.google(\"{}, Toronto, Ontario, Canada\".format(p))\n",
    "        lat_lng_coords = g.latlng\n",
    "    if lat_lng_coords is None:\n",
    "        not_found += 1\n",
    "    else:\n",
    "        found += 1\n",
    "\n",
    "print(\"\\nfound: {}\\nnot found: {}\".format(found, not_found))"
   ]
  },
  {
   "cell_type": "markdown",
   "metadata": {},
   "source": [
    "## Another attempt using geopy\n",
    "\n",
    "The New York notebook used geopy, so I thought\n",
    "to give it a try here."
   ]
  },
  {
   "cell_type": "code",
   "execution_count": 23,
   "metadata": {},
   "outputs": [
    {
     "name": "stdout",
     "output_type": "stream",
     "text": [
      "Requirement already satisfied: geopy in /usr/local/Cellar/jupyterlab/2.2.7/libexec/lib/python3.8/site-packages (2.0.0)\n",
      "Requirement already satisfied: geographiclib<2,>=1.49 in /usr/local/Cellar/jupyterlab/2.2.7/libexec/lib/python3.8/site-packages (from geopy) (1.50)\n",
      "\u001b[33mWARNING: You are using pip version 20.2.3; however, version 20.3.3 is available.\n",
      "You should consider upgrading via the '/usr/local/Cellar/jupyterlab/2.2.7/libexec/bin/python3.8 -m pip install --upgrade pip' command.\u001b[0m\n",
      "Note: you may need to restart the kernel to use updated packages.\n"
     ]
    }
   ],
   "source": [
    "pip install geopy"
   ]
  },
  {
   "cell_type": "code",
   "execution_count": 1,
   "metadata": {},
   "outputs": [
    {
     "ename": "NameError",
     "evalue": "name 'postal_codes' is not defined",
     "output_type": "error",
     "traceback": [
      "\u001b[0;31m---------------------------------------------------------------------------\u001b[0m",
      "\u001b[0;31mNameError\u001b[0m                                 Traceback (most recent call last)",
      "\u001b[0;32m<ipython-input-1-739f36a2ffc0>\u001b[0m in \u001b[0;36m<module>\u001b[0;34m\u001b[0m\n\u001b[1;32m      5\u001b[0m \u001b[0;34m\u001b[0m\u001b[0m\n\u001b[1;32m      6\u001b[0m \u001b[0mgeolocator\u001b[0m \u001b[0;34m=\u001b[0m \u001b[0mNominatim\u001b[0m\u001b[0;34m(\u001b[0m\u001b[0muser_agent\u001b[0m\u001b[0;34m=\u001b[0m\u001b[0;34m\"Capstone Week 3\"\u001b[0m\u001b[0;34m)\u001b[0m\u001b[0;34m\u001b[0m\u001b[0;34m\u001b[0m\u001b[0m\n\u001b[0;32m----> 7\u001b[0;31m \u001b[0;32mfor\u001b[0m \u001b[0mi\u001b[0m \u001b[0;32min\u001b[0m \u001b[0mpostal_codes\u001b[0m\u001b[0;34m[\u001b[0m\u001b[0;34m'PostalCode'\u001b[0m\u001b[0;34m]\u001b[0m\u001b[0;34m:\u001b[0m\u001b[0;34m\u001b[0m\u001b[0;34m\u001b[0m\u001b[0m\n\u001b[0m\u001b[1;32m      8\u001b[0m     \u001b[0mprint\u001b[0m\u001b[0;34m(\u001b[0m\u001b[0;34m\".\"\u001b[0m\u001b[0;34m,\u001b[0m \u001b[0mend\u001b[0m\u001b[0;34m=\u001b[0m\u001b[0;34m''\u001b[0m\u001b[0;34m)\u001b[0m\u001b[0;34m\u001b[0m\u001b[0;34m\u001b[0m\u001b[0m\n\u001b[1;32m      9\u001b[0m     \u001b[0mlocation\u001b[0m \u001b[0;34m=\u001b[0m \u001b[0mgeolocator\u001b[0m\u001b[0;34m.\u001b[0m\u001b[0mgeocode\u001b[0m\u001b[0;34m(\u001b[0m\u001b[0;34m\"{}, Toronto, Ontario, Canada\"\u001b[0m\u001b[0;34m.\u001b[0m\u001b[0mformat\u001b[0m\u001b[0;34m(\u001b[0m\u001b[0mi\u001b[0m\u001b[0;34m)\u001b[0m\u001b[0;34m)\u001b[0m\u001b[0;34m\u001b[0m\u001b[0;34m\u001b[0m\u001b[0m\n",
      "\u001b[0;31mNameError\u001b[0m: name 'postal_codes' is not defined"
     ]
    }
   ],
   "source": [
    "from geopy.geocoders import Nominatim\n",
    "\n",
    "found = 0\n",
    "not_found = 0\n",
    "\n",
    "geolocator = Nominatim(user_agent=\"Capstone Week 3\")\n",
    "for i in postal_codes['PostalCode']:\n",
    "    print(\".\", end='')\n",
    "    location = geolocator.geocode(\"{}, Toronto, Ontario, Canada\".format(i))\n",
    "    if location is not None:\n",
    "        found += 1\n",
    "    else:\n",
    "        not_found += 1\n",
    "\n",
    "print(\"\\nfound: {}\\nnot found: {}\".format(found, not_found))"
   ]
  },
  {
   "cell_type": "markdown",
   "metadata": {},
   "source": [
    "## Using the Coursera CSV File\n",
    "\n",
    "I tried. I think if I were doing this in a production environment,\n",
    "I would get a Google developer API key and use their service."
   ]
  },
  {
   "cell_type": "code",
   "execution_count": 25,
   "metadata": {},
   "outputs": [
    {
     "data": {
      "text/html": [
       "<div>\n",
       "<style scoped>\n",
       "    .dataframe tbody tr th:only-of-type {\n",
       "        vertical-align: middle;\n",
       "    }\n",
       "\n",
       "    .dataframe tbody tr th {\n",
       "        vertical-align: top;\n",
       "    }\n",
       "\n",
       "    .dataframe thead th {\n",
       "        text-align: right;\n",
       "    }\n",
       "</style>\n",
       "<table border=\"1\" class=\"dataframe\">\n",
       "  <thead>\n",
       "    <tr style=\"text-align: right;\">\n",
       "      <th></th>\n",
       "      <th>PostalCode</th>\n",
       "      <th>Borough</th>\n",
       "      <th>Neighborhood</th>\n",
       "      <th>Latitude</th>\n",
       "      <th>Longitude</th>\n",
       "    </tr>\n",
       "  </thead>\n",
       "  <tbody>\n",
       "    <tr>\n",
       "      <th>0</th>\n",
       "      <td>M1B</td>\n",
       "      <td>Scarborough</td>\n",
       "      <td>Malvern, Rouge</td>\n",
       "      <td>43.806686</td>\n",
       "      <td>-79.194353</td>\n",
       "    </tr>\n",
       "    <tr>\n",
       "      <th>1</th>\n",
       "      <td>M1C</td>\n",
       "      <td>Scarborough</td>\n",
       "      <td>Rouge Hill, Port Union, Highland Creek</td>\n",
       "      <td>43.784535</td>\n",
       "      <td>-79.160497</td>\n",
       "    </tr>\n",
       "    <tr>\n",
       "      <th>2</th>\n",
       "      <td>M1E</td>\n",
       "      <td>Scarborough</td>\n",
       "      <td>Guildwood, Morningside, West Hill</td>\n",
       "      <td>43.763573</td>\n",
       "      <td>-79.188711</td>\n",
       "    </tr>\n",
       "    <tr>\n",
       "      <th>3</th>\n",
       "      <td>M1G</td>\n",
       "      <td>Scarborough</td>\n",
       "      <td>Woburn</td>\n",
       "      <td>43.770992</td>\n",
       "      <td>-79.216917</td>\n",
       "    </tr>\n",
       "    <tr>\n",
       "      <th>4</th>\n",
       "      <td>M1H</td>\n",
       "      <td>Scarborough</td>\n",
       "      <td>Cedarbrae</td>\n",
       "      <td>43.773136</td>\n",
       "      <td>-79.239476</td>\n",
       "    </tr>\n",
       "  </tbody>\n",
       "</table>\n",
       "</div>"
      ],
      "text/plain": [
       "  PostalCode      Borough                            Neighborhood   Latitude  \\\n",
       "0        M1B  Scarborough                          Malvern, Rouge  43.806686   \n",
       "1        M1C  Scarborough  Rouge Hill, Port Union, Highland Creek  43.784535   \n",
       "2        M1E  Scarborough       Guildwood, Morningside, West Hill  43.763573   \n",
       "3        M1G  Scarborough                                  Woburn  43.770992   \n",
       "4        M1H  Scarborough                               Cedarbrae  43.773136   \n",
       "\n",
       "   Longitude  \n",
       "0 -79.194353  \n",
       "1 -79.160497  \n",
       "2 -79.188711  \n",
       "3 -79.216917  \n",
       "4 -79.239476  "
      ]
     },
     "execution_count": 25,
     "metadata": {},
     "output_type": "execute_result"
    }
   ],
   "source": [
    "long_lat = pd.read_csv(\"https://cocl.us/Geospatial_data\")\n",
    "long_lat.rename(columns={'Postal Code':'PostalCode'}, inplace=True)\n",
    "postal_codes = postal_codes.merge(long_lat, on='PostalCode')\n",
    "postal_codes.head()"
   ]
  },
  {
   "cell_type": "code",
   "execution_count": 12,
   "metadata": {},
   "outputs": [
    {
     "data": {
      "text/plain": [
       "(103, 5)"
      ]
     },
     "execution_count": 12,
     "metadata": {},
     "output_type": "execute_result"
    }
   ],
   "source": [
    "postal_codes.shape"
   ]
  },
  {
   "cell_type": "code",
   "execution_count": null,
   "metadata": {},
   "outputs": [],
   "source": []
  }
 ],
 "metadata": {
  "kernelspec": {
   "display_name": "Python 3",
   "language": "python",
   "name": "python3"
  },
  "language_info": {
   "codemirror_mode": {
    "name": "ipython",
    "version": 3
   },
   "file_extension": ".py",
   "mimetype": "text/x-python",
   "name": "python",
   "nbconvert_exporter": "python",
   "pygments_lexer": "ipython3",
   "version": "3.8.5"
  }
 },
 "nbformat": 4,
 "nbformat_minor": 4
}
